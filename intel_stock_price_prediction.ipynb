{
 "cells": [
  {
   "cell_type": "markdown",
   "id": "669336bb",
   "metadata": {
    "papermill": {
     "duration": 0.008142,
     "end_time": "2024-02-04T14:48:56.560132",
     "exception": false,
     "start_time": "2024-02-04T14:48:56.551990",
     "status": "completed"
    },
    "tags": []
   },
   "source": [
    "Stock Price Prediction using LSTM"
   ]
  },
  {
   "cell_type": "code",
   "execution_count": 1,
   "id": "2e656cc7",
   "metadata": {
    "execution": {
     "iopub.execute_input": "2024-02-04T14:48:56.578546Z",
     "iopub.status.busy": "2024-02-04T14:48:56.578076Z",
     "iopub.status.idle": "2024-02-04T14:49:10.507833Z",
     "shell.execute_reply": "2024-02-04T14:49:10.506871Z"
    },
    "papermill": {
     "duration": 13.942249,
     "end_time": "2024-02-04T14:49:10.510079",
     "exception": false,
     "start_time": "2024-02-04T14:48:56.567830",
     "status": "completed"
    },
    "tags": []
   },
   "outputs": [
    {
     "name": "stderr",
     "output_type": "stream",
     "text": [
      "/opt/conda/lib/python3.10/site-packages/scipy/__init__.py:146: UserWarning: A NumPy version >=1.16.5 and <1.23.0 is required for this version of SciPy (detected version 1.24.3\n",
      "  warnings.warn(f\"A NumPy version >={np_minversion} and <{np_maxversion}\"\n"
     ]
    }
   ],
   "source": [
    "import numpy as np # linear algebra\n",
    "import pandas as pd # data processing, CSV file I/O (e.g. pd.read_csv)\n",
    "import scipy\n",
    "import matplotlib.pyplot as plt\n",
    "from numpy import array\n",
    "from sklearn.preprocessing import MinMaxScaler\n",
    "from sklearn.metrics import mean_squared_error\n",
    "from tensorflow.keras.models import Sequential\n",
    "from tensorflow.keras.layers import Dense\n",
    "from tensorflow.keras.layers import LSTM\n",
    "import math"
   ]
  },
  {
   "cell_type": "code",
   "execution_count": 2,
   "id": "b780c230",
   "metadata": {
    "execution": {
     "iopub.execute_input": "2024-02-04T14:49:10.527282Z",
     "iopub.status.busy": "2024-02-04T14:49:10.526728Z",
     "iopub.status.idle": "2024-02-04T14:49:10.530956Z",
     "shell.execute_reply": "2024-02-04T14:49:10.530150Z"
    },
    "papermill": {
     "duration": 0.014704,
     "end_time": "2024-02-04T14:49:10.532760",
     "exception": false,
     "start_time": "2024-02-04T14:49:10.518056",
     "status": "completed"
    },
    "tags": []
   },
   "outputs": [],
   "source": [
    "import warnings\n",
    "warnings.filterwarnings(\"ignore\")"
   ]
  },
  {
   "cell_type": "markdown",
   "id": "84fac536",
   "metadata": {
    "papermill": {
     "duration": 0.007337,
     "end_time": "2024-02-04T14:49:10.547882",
     "exception": false,
     "start_time": "2024-02-04T14:49:10.540545",
     "status": "completed"
    },
    "tags": []
   },
   "source": [
    "# Collect the Stock Data"
   ]
  },
  {
   "cell_type": "code",
   "execution_count": 3,
   "id": "73a03c36",
   "metadata": {
    "execution": {
     "iopub.execute_input": "2024-02-04T14:49:10.564894Z",
     "iopub.status.busy": "2024-02-04T14:49:10.563943Z",
     "iopub.status.idle": "2024-02-04T14:49:10.654118Z",
     "shell.execute_reply": "2024-02-04T14:49:10.653246Z"
    },
    "papermill": {
     "duration": 0.100789,
     "end_time": "2024-02-04T14:49:10.656293",
     "exception": false,
     "start_time": "2024-02-04T14:49:10.555504",
     "status": "completed"
    },
    "tags": []
   },
   "outputs": [
    {
     "data": {
      "text/html": [
       "<div>\n",
       "<style scoped>\n",
       "    .dataframe tbody tr th:only-of-type {\n",
       "        vertical-align: middle;\n",
       "    }\n",
       "\n",
       "    .dataframe tbody tr th {\n",
       "        vertical-align: top;\n",
       "    }\n",
       "\n",
       "    .dataframe thead th {\n",
       "        text-align: right;\n",
       "    }\n",
       "</style>\n",
       "<table border=\"1\" class=\"dataframe\">\n",
       "  <thead>\n",
       "    <tr style=\"text-align: right;\">\n",
       "      <th></th>\n",
       "      <th>Date</th>\n",
       "      <th>Open</th>\n",
       "      <th>High</th>\n",
       "      <th>Low</th>\n",
       "      <th>Close</th>\n",
       "      <th>Volume</th>\n",
       "      <th>OpenInt</th>\n",
       "    </tr>\n",
       "  </thead>\n",
       "  <tbody>\n",
       "    <tr>\n",
       "      <th>4534</th>\n",
       "      <td>1990-01-02</td>\n",
       "      <td>0.8579</td>\n",
       "      <td>0.8982</td>\n",
       "      <td>0.8499</td>\n",
       "      <td>0.8982</td>\n",
       "      <td>79600273</td>\n",
       "      <td>0</td>\n",
       "    </tr>\n",
       "    <tr>\n",
       "      <th>4535</th>\n",
       "      <td>1990-01-03</td>\n",
       "      <td>0.8982</td>\n",
       "      <td>0.9061</td>\n",
       "      <td>0.8740</td>\n",
       "      <td>0.8740</td>\n",
       "      <td>86671242</td>\n",
       "      <td>0</td>\n",
       "    </tr>\n",
       "    <tr>\n",
       "      <th>4536</th>\n",
       "      <td>1990-01-04</td>\n",
       "      <td>0.8820</td>\n",
       "      <td>0.8982</td>\n",
       "      <td>0.8579</td>\n",
       "      <td>0.8904</td>\n",
       "      <td>72928342</td>\n",
       "      <td>0</td>\n",
       "    </tr>\n",
       "    <tr>\n",
       "      <th>4537</th>\n",
       "      <td>1990-01-05</td>\n",
       "      <td>0.8904</td>\n",
       "      <td>0.8982</td>\n",
       "      <td>0.8820</td>\n",
       "      <td>0.8820</td>\n",
       "      <td>46184758</td>\n",
       "      <td>0</td>\n",
       "    </tr>\n",
       "    <tr>\n",
       "      <th>4538</th>\n",
       "      <td>1990-01-08</td>\n",
       "      <td>0.8904</td>\n",
       "      <td>0.9061</td>\n",
       "      <td>0.8820</td>\n",
       "      <td>0.8982</td>\n",
       "      <td>54001929</td>\n",
       "      <td>0</td>\n",
       "    </tr>\n",
       "    <tr>\n",
       "      <th>...</th>\n",
       "      <td>...</td>\n",
       "      <td>...</td>\n",
       "      <td>...</td>\n",
       "      <td>...</td>\n",
       "      <td>...</td>\n",
       "      <td>...</td>\n",
       "      <td>...</td>\n",
       "    </tr>\n",
       "    <tr>\n",
       "      <th>11551</th>\n",
       "      <td>2017-11-06</td>\n",
       "      <td>46.6000</td>\n",
       "      <td>46.7400</td>\n",
       "      <td>46.0900</td>\n",
       "      <td>46.7000</td>\n",
       "      <td>34006271</td>\n",
       "      <td>0</td>\n",
       "    </tr>\n",
       "    <tr>\n",
       "      <th>11552</th>\n",
       "      <td>2017-11-07</td>\n",
       "      <td>46.7000</td>\n",
       "      <td>47.0900</td>\n",
       "      <td>46.6400</td>\n",
       "      <td>46.7800</td>\n",
       "      <td>24422113</td>\n",
       "      <td>0</td>\n",
       "    </tr>\n",
       "    <tr>\n",
       "      <th>11553</th>\n",
       "      <td>2017-11-08</td>\n",
       "      <td>46.6200</td>\n",
       "      <td>46.7000</td>\n",
       "      <td>46.2800</td>\n",
       "      <td>46.7000</td>\n",
       "      <td>21556947</td>\n",
       "      <td>0</td>\n",
       "    </tr>\n",
       "    <tr>\n",
       "      <th>11554</th>\n",
       "      <td>2017-11-09</td>\n",
       "      <td>46.0500</td>\n",
       "      <td>46.3900</td>\n",
       "      <td>45.6500</td>\n",
       "      <td>46.3000</td>\n",
       "      <td>25564257</td>\n",
       "      <td>0</td>\n",
       "    </tr>\n",
       "    <tr>\n",
       "      <th>11555</th>\n",
       "      <td>2017-11-10</td>\n",
       "      <td>46.0400</td>\n",
       "      <td>46.0900</td>\n",
       "      <td>45.3800</td>\n",
       "      <td>45.5800</td>\n",
       "      <td>24088569</td>\n",
       "      <td>0</td>\n",
       "    </tr>\n",
       "  </tbody>\n",
       "</table>\n",
       "<p>7022 rows × 7 columns</p>\n",
       "</div>"
      ],
      "text/plain": [
       "             Date     Open     High      Low    Close    Volume  OpenInt\n",
       "4534   1990-01-02   0.8579   0.8982   0.8499   0.8982  79600273        0\n",
       "4535   1990-01-03   0.8982   0.9061   0.8740   0.8740  86671242        0\n",
       "4536   1990-01-04   0.8820   0.8982   0.8579   0.8904  72928342        0\n",
       "4537   1990-01-05   0.8904   0.8982   0.8820   0.8820  46184758        0\n",
       "4538   1990-01-08   0.8904   0.9061   0.8820   0.8982  54001929        0\n",
       "...           ...      ...      ...      ...      ...       ...      ...\n",
       "11551  2017-11-06  46.6000  46.7400  46.0900  46.7000  34006271        0\n",
       "11552  2017-11-07  46.7000  47.0900  46.6400  46.7800  24422113        0\n",
       "11553  2017-11-08  46.6200  46.7000  46.2800  46.7000  21556947        0\n",
       "11554  2017-11-09  46.0500  46.3900  45.6500  46.3000  25564257        0\n",
       "11555  2017-11-10  46.0400  46.0900  45.3800  45.5800  24088569        0\n",
       "\n",
       "[7022 rows x 7 columns]"
      ]
     },
     "execution_count": 3,
     "metadata": {},
     "output_type": "execute_result"
    }
   ],
   "source": [
    "df = pd.read_csv(\"/kaggle/input/price-volume-data-for-all-us-stocks-etfs/Stocks/intc.us.txt\", sep=',')\n",
    "df = df[df['Date']>'1990-01-01']\n",
    "df"
   ]
  },
  {
   "cell_type": "code",
   "execution_count": 4,
   "id": "dbdca265",
   "metadata": {
    "execution": {
     "iopub.execute_input": "2024-02-04T14:49:10.674181Z",
     "iopub.status.busy": "2024-02-04T14:49:10.673865Z",
     "iopub.status.idle": "2024-02-04T14:49:10.681287Z",
     "shell.execute_reply": "2024-02-04T14:49:10.680516Z"
    },
    "papermill": {
     "duration": 0.01856,
     "end_time": "2024-02-04T14:49:10.683234",
     "exception": false,
     "start_time": "2024-02-04T14:49:10.664674",
     "status": "completed"
    },
    "tags": []
   },
   "outputs": [
    {
     "data": {
      "text/plain": [
       "0    0.8982\n",
       "1    0.8740\n",
       "2    0.8904\n",
       "3    0.8820\n",
       "4    0.8982\n",
       "Name: Close, dtype: float64"
      ]
     },
     "execution_count": 4,
     "metadata": {},
     "output_type": "execute_result"
    }
   ],
   "source": [
    "df2 = df.reset_index()['Close']\n",
    "df2.head()"
   ]
  },
  {
   "cell_type": "code",
   "execution_count": 5,
   "id": "87fd15b3",
   "metadata": {
    "execution": {
     "iopub.execute_input": "2024-02-04T14:49:10.700526Z",
     "iopub.status.busy": "2024-02-04T14:49:10.700024Z",
     "iopub.status.idle": "2024-02-04T14:49:10.899103Z",
     "shell.execute_reply": "2024-02-04T14:49:10.898067Z"
    },
    "papermill": {
     "duration": 0.209884,
     "end_time": "2024-02-04T14:49:10.901147",
     "exception": false,
     "start_time": "2024-02-04T14:49:10.691263",
     "status": "completed"
    },
    "tags": []
   },
   "outputs": [
    {
     "data": {
      "image/png": "[encoded data removed]",
      "text/plain": [
       "<Figure size 640x480 with 1 Axes>"
      ]
     },
     "metadata": {},
     "output_type": "display_data"
    }
   ],
   "source": [
    "plt.plot(df2)\n",
    "plt.show()"
   ]
  },
  {
   "cell_type": "code",
   "execution_count": 6,
   "id": "bed92736",
   "metadata": {
    "execution": {
     "iopub.execute_input": "2024-02-04T14:49:10.921148Z",
     "iopub.status.busy": "2024-02-04T14:49:10.920341Z",
     "iopub.status.idle": "2024-02-04T14:49:10.927692Z",
     "shell.execute_reply": "2024-02-04T14:49:10.926683Z"
    },
    "papermill": {
     "duration": 0.01932,
     "end_time": "2024-02-04T14:49:10.929809",
     "exception": false,
     "start_time": "2024-02-04T14:49:10.910489",
     "status": "completed"
    },
    "tags": []
   },
   "outputs": [
    {
     "name": "stdout",
     "output_type": "stream",
     "text": [
      "[[0.00284151]\n",
      " [0.00243317]\n",
      " [0.0027099 ]\n",
      " ...\n",
      " [0.77568245]\n",
      " [0.76893302]\n",
      " [0.75678403]]\n"
     ]
    }
   ],
   "source": [
    "scaler = MinMaxScaler(feature_range=(0,1))\n",
    "df2 = scaler.fit_transform(np.array(df2).reshape(-1, 1))\n",
    "print(df2)"
   ]
  },
  {
   "cell_type": "markdown",
   "id": "7ac0ee0e",
   "metadata": {
    "papermill": {
     "duration": 0.009443,
     "end_time": "2024-02-04T14:49:10.949027",
     "exception": false,
     "start_time": "2024-02-04T14:49:10.939584",
     "status": "completed"
    },
    "tags": []
   },
   "source": [
    "# Preprocessing data with Train and Test"
   ]
  },
  {
   "cell_type": "code",
   "execution_count": 7,
   "id": "d622a063",
   "metadata": {
    "execution": {
     "iopub.execute_input": "2024-02-04T14:49:10.970094Z",
     "iopub.status.busy": "2024-02-04T14:49:10.969793Z",
     "iopub.status.idle": "2024-02-04T14:49:10.974832Z",
     "shell.execute_reply": "2024-02-04T14:49:10.973932Z"
    },
    "papermill": {
     "duration": 0.018128,
     "end_time": "2024-02-04T14:49:10.976910",
     "exception": false,
     "start_time": "2024-02-04T14:49:10.958782",
     "status": "completed"
    },
    "tags": []
   },
   "outputs": [],
   "source": [
    "train_dataset_size = int(len(df2) * 0.70)\n",
    "test_dataset_size = int(len(df2) - train_dataset_size)\n",
    "train_data, test_data = df2[0:train_dataset_size], df2[train_dataset_size: len(df2)]"
   ]
  },
  {
   "cell_type": "code",
   "execution_count": 8,
   "id": "a3c9b117",
   "metadata": {
    "execution": {
     "iopub.execute_input": "2024-02-04T14:49:10.998011Z",
     "iopub.status.busy": "2024-02-04T14:49:10.997328Z",
     "iopub.status.idle": "2024-02-04T14:49:11.003119Z",
     "shell.execute_reply": "2024-02-04T14:49:11.002243Z"
    },
    "papermill": {
     "duration": 0.018455,
     "end_time": "2024-02-04T14:49:11.005084",
     "exception": false,
     "start_time": "2024-02-04T14:49:10.986629",
     "status": "completed"
    },
    "tags": []
   },
   "outputs": [],
   "source": [
    "## Convert an arrary of values in dataset matrix\n",
    "def Create_dataset(dataset, time_step=1):\n",
    "    dataX, dataY = [], []\n",
    "    for i in range(len(dataset) - time_step -1):\n",
    "        a = dataset[i: (i+time_step), 0]\n",
    "        dataX.append(a)\n",
    "        dataY.append(dataset[ i + time_step , 0])\n",
    "    return np.array(dataX), np.array(dataY)"
   ]
  },
  {
   "cell_type": "code",
   "execution_count": 9,
   "id": "bf0239ae",
   "metadata": {
    "execution": {
     "iopub.execute_input": "2024-02-04T14:49:11.025028Z",
     "iopub.status.busy": "2024-02-04T14:49:11.024751Z",
     "iopub.status.idle": "2024-02-04T14:49:11.043895Z",
     "shell.execute_reply": "2024-02-04T14:49:11.043247Z"
    },
    "papermill": {
     "duration": 0.031169,
     "end_time": "2024-02-04T14:49:11.045696",
     "exception": false,
     "start_time": "2024-02-04T14:49:11.014527",
     "status": "completed"
    },
    "tags": []
   },
   "outputs": [],
   "source": [
    "## Reshape into X=t, t+1, t+2, t+3 and Y = t+4\n",
    "time_step = 100\n",
    "X_train, y_train = Create_dataset(train_data, time_step)\n",
    "X_test, y_test = Create_dataset(test_data, time_step)"
   ]
  },
  {
   "cell_type": "code",
   "execution_count": 10,
   "id": "cd852d8e",
   "metadata": {
    "execution": {
     "iopub.execute_input": "2024-02-04T14:49:11.064070Z",
     "iopub.status.busy": "2024-02-04T14:49:11.063806Z",
     "iopub.status.idle": "2024-02-04T14:49:11.068162Z",
     "shell.execute_reply": "2024-02-04T14:49:11.067287Z"
    },
    "papermill": {
     "duration": 0.015764,
     "end_time": "2024-02-04T14:49:11.070302",
     "exception": false,
     "start_time": "2024-02-04T14:49:11.054538",
     "status": "completed"
    },
    "tags": []
   },
   "outputs": [
    {
     "name": "stdout",
     "output_type": "stream",
     "text": [
      "(4814, 100)\n",
      "(4814,)\n",
      "(2006, 100)\n",
      "(2006,)\n"
     ]
    }
   ],
   "source": [
    "print(X_train.shape) \n",
    "print(y_train.shape)\n",
    "print(X_test.shape)\n",
    "print(y_test.shape)"
   ]
  },
  {
   "cell_type": "markdown",
   "id": "8bbd3c17",
   "metadata": {
    "papermill": {
     "duration": 0.008548,
     "end_time": "2024-02-04T14:49:11.087418",
     "exception": false,
     "start_time": "2024-02-04T14:49:11.078870",
     "status": "completed"
    },
    "tags": []
   },
   "source": [
    "# Create an Stacked LSTM Model"
   ]
  },
  {
   "cell_type": "code",
   "execution_count": 11,
   "id": "cc4aeb16",
   "metadata": {
    "execution": {
     "iopub.execute_input": "2024-02-04T14:49:11.105691Z",
     "iopub.status.busy": "2024-02-04T14:49:11.105388Z",
     "iopub.status.idle": "2024-02-04T14:49:11.110601Z",
     "shell.execute_reply": "2024-02-04T14:49:11.109759Z"
    },
    "papermill": {
     "duration": 0.016328,
     "end_time": "2024-02-04T14:49:11.112379",
     "exception": false,
     "start_time": "2024-02-04T14:49:11.096051",
     "status": "completed"
    },
    "tags": []
   },
   "outputs": [
    {
     "name": "stdout",
     "output_type": "stream",
     "text": [
      "(4814, 100, 1)\n",
      "(2006, 100, 1)\n"
     ]
    }
   ],
   "source": [
    "X_train = X_train.reshape(X_train.shape[0], X_train.shape[1], 1)\n",
    "X_test = X_test.reshape(X_test.shape[0], X_test.shape[1], 1)\n",
    "print(X_train.shape)\n",
    "print(X_test.shape)"
   ]
  },
  {
   "cell_type": "code",
   "execution_count": 12,
   "id": "d6728a93",
   "metadata": {
    "execution": {
     "iopub.execute_input": "2024-02-04T14:49:11.130920Z",
     "iopub.status.busy": "2024-02-04T14:49:11.130652Z",
     "iopub.status.idle": "2024-02-04T14:49:13.100250Z",
     "shell.execute_reply": "2024-02-04T14:49:13.099254Z"
    },
    "papermill": {
     "duration": 1.982261,
     "end_time": "2024-02-04T14:49:13.103317",
     "exception": false,
     "start_time": "2024-02-04T14:49:11.121056",
     "status": "completed"
    },
    "tags": []
   },
   "outputs": [
    {
     "name": "stdout",
     "output_type": "stream",
     "text": [
      "Model: \"sequential\"\n",
      "_________________________________________________________________\n",
      " Layer (type)                Output Shape              Param #   \n",
      "=================================================================\n",
      " lstm (LSTM)                 (None, 100, 50)           10400     \n",
      "                                                                 \n",
      " lstm_1 (LSTM)               (None, 100, 50)           20200     \n",
      "                                                                 \n",
      " lstm_2 (LSTM)               (None, 50)                20200     \n",
      "                                                                 \n",
      " dense (Dense)               (None, 1)                 51        \n",
      "                                                                 \n",
      "=================================================================\n",
      "Total params: 50851 (198.64 KB)\n",
      "Trainable params: 50851 (198.64 KB)\n",
      "Non-trainable params: 0 (0.00 Byte)\n",
      "_________________________________________________________________\n"
     ]
    }
   ],
   "source": [
    "model = Sequential()\n",
    "model.add(LSTM(50, return_sequences=True, input_shape=(100, 1)))\n",
    "model.add(LSTM(50, return_sequences=True))\n",
    "model.add(LSTM(50))\n",
    "model.add(Dense(1))\n",
    "model.compile(loss=\"mean_squared_error\", optimizer=\"adam\")\n",
    "\n",
    "model.summary()"
   ]
  },
  {
   "cell_type": "code",
   "execution_count": 13,
   "id": "fafaf7d4",
   "metadata": {
    "execution": {
     "iopub.execute_input": "2024-02-04T14:49:13.125030Z",
     "iopub.status.busy": "2024-02-04T14:49:13.124540Z",
     "iopub.status.idle": "2024-02-04T14:51:13.369428Z",
     "shell.execute_reply": "2024-02-04T14:51:13.368431Z"
    },
    "papermill": {
     "duration": 120.258179,
     "end_time": "2024-02-04T14:51:13.371755",
     "exception": false,
     "start_time": "2024-02-04T14:49:13.113576",
     "status": "completed"
    },
    "tags": []
   },
   "outputs": [
    {
     "name": "stdout",
     "output_type": "stream",
     "text": [
      "Epoch 1/100\n",
      "76/76 [==============================] - 8s 34ms/step - loss: 0.0062 - val_loss: 3.4689e-04\n",
      "Epoch 2/100\n",
      "76/76 [==============================] - 1s 15ms/step - loss: 7.2581e-04 - val_loss: 3.2944e-04\n",
      "Epoch 3/100\n",
      "76/76 [==============================] - 1s 15ms/step - loss: 6.3258e-04 - val_loss: 4.7659e-04\n",
      "Epoch 4/100\n",
      "76/76 [==============================] - 1s 15ms/step - loss: 5.8063e-04 - val_loss: 2.3935e-04\n",
      "Epoch 5/100\n",
      "76/76 [==============================] - 1s 15ms/step - loss: 5.8060e-04 - val_loss: 4.4653e-04\n",
      "Epoch 6/100\n",
      "76/76 [==============================] - 1s 15ms/step - loss: 4.5645e-04 - val_loss: 7.6653e-04\n",
      "Epoch 7/100\n",
      "76/76 [==============================] - 1s 17ms/step - loss: 4.0096e-04 - val_loss: 2.4216e-04\n",
      "Epoch 8/100\n",
      "76/76 [==============================] - 1s 15ms/step - loss: 4.4606e-04 - val_loss: 2.1549e-04\n",
      "Epoch 9/100\n",
      "76/76 [==============================] - 1s 14ms/step - loss: 3.5566e-04 - val_loss: 2.1895e-04\n",
      "Epoch 10/100\n",
      "76/76 [==============================] - 1s 15ms/step - loss: 3.6871e-04 - val_loss: 1.9017e-04\n",
      "Epoch 11/100\n",
      "76/76 [==============================] - 1s 15ms/step - loss: 3.8606e-04 - val_loss: 2.0968e-04\n",
      "Epoch 12/100\n",
      "76/76 [==============================] - 1s 15ms/step - loss: 3.4658e-04 - val_loss: 1.5761e-04\n",
      "Epoch 13/100\n",
      "76/76 [==============================] - 1s 15ms/step - loss: 3.4850e-04 - val_loss: 2.5688e-04\n",
      "Epoch 14/100\n",
      "76/76 [==============================] - 1s 15ms/step - loss: 3.1959e-04 - val_loss: 3.4492e-04\n",
      "Epoch 15/100\n",
      "76/76 [==============================] - 1s 15ms/step - loss: 2.9443e-04 - val_loss: 1.7988e-04\n",
      "Epoch 16/100\n",
      "76/76 [==============================] - 1s 15ms/step - loss: 2.8136e-04 - val_loss: 1.1639e-04\n",
      "Epoch 17/100\n",
      "76/76 [==============================] - 1s 15ms/step - loss: 2.5369e-04 - val_loss: 1.0569e-04\n",
      "Epoch 18/100\n",
      "76/76 [==============================] - 1s 15ms/step - loss: 2.4576e-04 - val_loss: 2.0803e-04\n",
      "Epoch 19/100\n",
      "76/76 [==============================] - 1s 14ms/step - loss: 2.5465e-04 - val_loss: 8.2150e-05\n",
      "Epoch 20/100\n",
      "76/76 [==============================] - 1s 15ms/step - loss: 2.1341e-04 - val_loss: 1.2425e-04\n",
      "Epoch 21/100\n",
      "76/76 [==============================] - 1s 15ms/step - loss: 2.0046e-04 - val_loss: 7.5912e-05\n",
      "Epoch 22/100\n",
      "76/76 [==============================] - 1s 15ms/step - loss: 1.8256e-04 - val_loss: 9.9357e-05\n",
      "Epoch 23/100\n",
      "76/76 [==============================] - 1s 15ms/step - loss: 1.8157e-04 - val_loss: 1.0251e-04\n",
      "Epoch 24/100\n",
      "76/76 [==============================] - 1s 15ms/step - loss: 2.0255e-04 - val_loss: 6.8671e-05\n",
      "Epoch 25/100\n",
      "76/76 [==============================] - 1s 15ms/step - loss: 1.6481e-04 - val_loss: 5.7096e-05\n",
      "Epoch 26/100\n",
      "76/76 [==============================] - 1s 15ms/step - loss: 1.9664e-04 - val_loss: 6.2311e-05\n",
      "Epoch 27/100\n",
      "76/76 [==============================] - 1s 15ms/step - loss: 1.6003e-04 - val_loss: 6.5814e-05\n",
      "Epoch 28/100\n",
      "76/76 [==============================] - 1s 15ms/step - loss: 1.4967e-04 - val_loss: 8.0180e-05\n",
      "Epoch 29/100\n",
      "76/76 [==============================] - 1s 15ms/step - loss: 1.5302e-04 - val_loss: 1.8114e-04\n",
      "Epoch 30/100\n",
      "76/76 [==============================] - 1s 15ms/step - loss: 1.3849e-04 - val_loss: 8.7631e-05\n",
      "Epoch 31/100\n",
      "76/76 [==============================] - 1s 15ms/step - loss: 1.3742e-04 - val_loss: 4.4838e-05\n",
      "Epoch 32/100\n",
      "76/76 [==============================] - 1s 15ms/step - loss: 1.3158e-04 - val_loss: 8.1727e-05\n",
      "Epoch 33/100\n",
      "76/76 [==============================] - 1s 15ms/step - loss: 1.6525e-04 - val_loss: 1.9678e-04\n",
      "Epoch 34/100\n",
      "76/76 [==============================] - 1s 15ms/step - loss: 1.5336e-04 - val_loss: 9.6890e-05\n",
      "Epoch 35/100\n",
      "76/76 [==============================] - 1s 18ms/step - loss: 1.2425e-04 - val_loss: 4.2221e-05\n",
      "Epoch 36/100\n",
      "76/76 [==============================] - 1s 15ms/step - loss: 1.1791e-04 - val_loss: 1.5422e-04\n",
      "Epoch 37/100\n",
      "76/76 [==============================] - 1s 15ms/step - loss: 1.4841e-04 - val_loss: 1.0348e-04\n",
      "Epoch 38/100\n",
      "76/76 [==============================] - 1s 15ms/step - loss: 1.3819e-04 - val_loss: 4.2630e-05\n",
      "Epoch 39/100\n",
      "76/76 [==============================] - 1s 15ms/step - loss: 1.2438e-04 - val_loss: 4.4585e-05\n",
      "Epoch 40/100\n",
      "76/76 [==============================] - 1s 15ms/step - loss: 1.2603e-04 - val_loss: 4.0826e-05\n",
      "Epoch 41/100\n",
      "76/76 [==============================] - 1s 15ms/step - loss: 1.1755e-04 - val_loss: 2.1617e-04\n",
      "Epoch 42/100\n",
      "76/76 [==============================] - 1s 15ms/step - loss: 1.6193e-04 - val_loss: 1.0623e-04\n",
      "Epoch 43/100\n",
      "76/76 [==============================] - 1s 15ms/step - loss: 1.1505e-04 - val_loss: 4.6429e-05\n",
      "Epoch 44/100\n",
      "76/76 [==============================] - 1s 15ms/step - loss: 1.3012e-04 - val_loss: 8.6171e-05\n",
      "Epoch 45/100\n",
      "76/76 [==============================] - 1s 15ms/step - loss: 1.2495e-04 - val_loss: 4.8567e-05\n",
      "Epoch 46/100\n",
      "76/76 [==============================] - 1s 14ms/step - loss: 1.2601e-04 - val_loss: 5.1947e-05\n",
      "Epoch 47/100\n",
      "76/76 [==============================] - 1s 15ms/step - loss: 1.2142e-04 - val_loss: 6.2010e-05\n",
      "Epoch 48/100\n",
      "76/76 [==============================] - 1s 15ms/step - loss: 1.2804e-04 - val_loss: 4.0523e-05\n",
      "Epoch 49/100\n",
      "76/76 [==============================] - 1s 15ms/step - loss: 1.1944e-04 - val_loss: 3.4639e-04\n",
      "Epoch 50/100\n",
      "76/76 [==============================] - 1s 15ms/step - loss: 1.2684e-04 - val_loss: 4.1098e-05\n",
      "Epoch 51/100\n",
      "76/76 [==============================] - 1s 15ms/step - loss: 1.2432e-04 - val_loss: 1.1931e-04\n",
      "Epoch 52/100\n",
      "76/76 [==============================] - 1s 15ms/step - loss: 1.3511e-04 - val_loss: 4.3354e-05\n",
      "Epoch 53/100\n",
      "76/76 [==============================] - 1s 15ms/step - loss: 1.3586e-04 - val_loss: 1.1057e-04\n",
      "Epoch 54/100\n",
      "76/76 [==============================] - 1s 15ms/step - loss: 1.3086e-04 - val_loss: 1.4932e-04\n",
      "Epoch 55/100\n",
      "76/76 [==============================] - 1s 15ms/step - loss: 1.1900e-04 - val_loss: 4.1484e-05\n",
      "Epoch 56/100\n",
      "76/76 [==============================] - 1s 15ms/step - loss: 1.1594e-04 - val_loss: 1.1072e-04\n",
      "Epoch 57/100\n",
      "76/76 [==============================] - 1s 15ms/step - loss: 1.2045e-04 - val_loss: 6.4486e-05\n",
      "Epoch 58/100\n",
      "76/76 [==============================] - 1s 14ms/step - loss: 1.3000e-04 - val_loss: 1.1822e-04\n",
      "Epoch 59/100\n",
      "76/76 [==============================] - 1s 15ms/step - loss: 1.2613e-04 - val_loss: 4.7004e-05\n",
      "Epoch 60/100\n",
      "76/76 [==============================] - 1s 15ms/step - loss: 1.1445e-04 - val_loss: 1.8934e-04\n",
      "Epoch 61/100\n",
      "76/76 [==============================] - 1s 15ms/step - loss: 1.1424e-04 - val_loss: 3.9845e-05\n",
      "Epoch 62/100\n",
      "76/76 [==============================] - 1s 16ms/step - loss: 1.1768e-04 - val_loss: 4.2130e-05\n",
      "Epoch 63/100\n",
      "76/76 [==============================] - 1s 17ms/step - loss: 1.2219e-04 - val_loss: 5.9101e-05\n",
      "Epoch 64/100\n",
      "76/76 [==============================] - 1s 14ms/step - loss: 1.1957e-04 - val_loss: 9.1743e-05\n",
      "Epoch 65/100\n",
      "76/76 [==============================] - 1s 15ms/step - loss: 1.4231e-04 - val_loss: 1.0586e-04\n",
      "Epoch 66/100\n",
      "76/76 [==============================] - 1s 14ms/step - loss: 1.1183e-04 - val_loss: 1.0639e-04\n",
      "Epoch 67/100\n",
      "76/76 [==============================] - 1s 14ms/step - loss: 1.2122e-04 - val_loss: 5.0439e-05\n",
      "Epoch 68/100\n",
      "76/76 [==============================] - 1s 15ms/step - loss: 1.1308e-04 - val_loss: 2.3790e-04\n",
      "Epoch 69/100\n",
      "76/76 [==============================] - 1s 14ms/step - loss: 1.4700e-04 - val_loss: 5.5417e-05\n",
      "Epoch 70/100\n",
      "76/76 [==============================] - 1s 15ms/step - loss: 1.0795e-04 - val_loss: 3.9561e-05\n",
      "Epoch 71/100\n",
      "76/76 [==============================] - 1s 15ms/step - loss: 1.2785e-04 - val_loss: 4.3365e-05\n",
      "Epoch 72/100\n",
      "76/76 [==============================] - 1s 15ms/step - loss: 1.1551e-04 - val_loss: 1.4388e-04\n",
      "Epoch 73/100\n",
      "76/76 [==============================] - 1s 15ms/step - loss: 1.2134e-04 - val_loss: 4.4870e-05\n",
      "Epoch 74/100\n",
      "76/76 [==============================] - 1s 15ms/step - loss: 1.1001e-04 - val_loss: 3.9900e-05\n",
      "Epoch 75/100\n",
      "76/76 [==============================] - 1s 15ms/step - loss: 1.1121e-04 - val_loss: 7.4619e-05\n",
      "Epoch 76/100\n",
      "76/76 [==============================] - 1s 15ms/step - loss: 1.1681e-04 - val_loss: 8.0009e-05\n",
      "Epoch 77/100\n",
      "76/76 [==============================] - 1s 14ms/step - loss: 1.1433e-04 - val_loss: 7.3910e-05\n",
      "Epoch 78/100\n",
      "76/76 [==============================] - 1s 14ms/step - loss: 1.4715e-04 - val_loss: 6.6225e-05\n",
      "Epoch 79/100\n",
      "76/76 [==============================] - 1s 15ms/step - loss: 1.3845e-04 - val_loss: 6.9232e-05\n",
      "Epoch 80/100\n",
      "76/76 [==============================] - 1s 14ms/step - loss: 1.1684e-04 - val_loss: 4.4040e-05\n",
      "Epoch 81/100\n",
      "76/76 [==============================] - 1s 14ms/step - loss: 1.2090e-04 - val_loss: 3.8197e-05\n",
      "Epoch 82/100\n",
      "76/76 [==============================] - 1s 14ms/step - loss: 1.1818e-04 - val_loss: 7.2218e-05\n",
      "Epoch 83/100\n",
      "76/76 [==============================] - 1s 15ms/step - loss: 1.2924e-04 - val_loss: 2.7638e-04\n",
      "Epoch 84/100\n",
      "76/76 [==============================] - 1s 14ms/step - loss: 1.0910e-04 - val_loss: 4.1114e-05\n",
      "Epoch 85/100\n",
      "76/76 [==============================] - 1s 14ms/step - loss: 1.1327e-04 - val_loss: 5.2463e-05\n",
      "Epoch 86/100\n",
      "76/76 [==============================] - 1s 14ms/step - loss: 1.1317e-04 - val_loss: 4.9321e-05\n",
      "Epoch 87/100\n",
      "76/76 [==============================] - 1s 14ms/step - loss: 1.0927e-04 - val_loss: 1.5595e-04\n",
      "Epoch 88/100\n",
      "76/76 [==============================] - 1s 15ms/step - loss: 1.2263e-04 - val_loss: 1.5210e-04\n",
      "Epoch 89/100\n",
      "76/76 [==============================] - 1s 15ms/step - loss: 1.2684e-04 - val_loss: 4.0532e-05\n",
      "Epoch 90/100\n",
      "76/76 [==============================] - 1s 15ms/step - loss: 1.0450e-04 - val_loss: 4.4209e-05\n",
      "Epoch 91/100\n",
      "76/76 [==============================] - 1s 17ms/step - loss: 1.1329e-04 - val_loss: 3.9653e-05\n",
      "Epoch 92/100\n",
      "76/76 [==============================] - 1s 15ms/step - loss: 1.1179e-04 - val_loss: 1.6109e-04\n",
      "Epoch 93/100\n",
      "76/76 [==============================] - 1s 15ms/step - loss: 1.1454e-04 - val_loss: 3.8384e-05\n",
      "Epoch 94/100\n",
      "76/76 [==============================] - 1s 15ms/step - loss: 1.1145e-04 - val_loss: 4.0145e-05\n",
      "Epoch 95/100\n",
      "76/76 [==============================] - 1s 14ms/step - loss: 1.2886e-04 - val_loss: 1.2712e-04\n",
      "Epoch 96/100\n",
      "76/76 [==============================] - 1s 15ms/step - loss: 1.1512e-04 - val_loss: 4.1037e-05\n",
      "Epoch 97/100\n",
      "76/76 [==============================] - 1s 16ms/step - loss: 1.0404e-04 - val_loss: 4.1228e-05\n",
      "Epoch 98/100\n",
      "76/76 [==============================] - 1s 15ms/step - loss: 1.1150e-04 - val_loss: 8.6482e-05\n",
      "Epoch 99/100\n",
      "76/76 [==============================] - 1s 15ms/step - loss: 1.2513e-04 - val_loss: 5.0319e-05\n",
      "Epoch 100/100\n",
      "76/76 [==============================] - 1s 15ms/step - loss: 1.1311e-04 - val_loss: 3.8110e-05\n",
      "Done\n"
     ]
    }
   ],
   "source": [
    "model.fit(X_train, y_train, validation_data=(X_test, y_test), epochs=100, batch_size=64, verbose=1)\n",
    "\n",
    "print(\"Done\")"
   ]
  },
  {
   "cell_type": "code",
   "execution_count": 14,
   "id": "f95b12fa",
   "metadata": {
    "execution": {
     "iopub.execute_input": "2024-02-04T14:51:13.679177Z",
     "iopub.status.busy": "2024-02-04T14:51:13.678762Z",
     "iopub.status.idle": "2024-02-04T14:51:13.684572Z",
     "shell.execute_reply": "2024-02-04T14:51:13.683716Z"
    },
    "papermill": {
     "duration": 0.15965,
     "end_time": "2024-02-04T14:51:13.686537",
     "exception": false,
     "start_time": "2024-02-04T14:51:13.526887",
     "status": "completed"
    },
    "tags": []
   },
   "outputs": [
    {
     "data": {
      "text/plain": [
       "'2.13.0'"
      ]
     },
     "execution_count": 14,
     "metadata": {},
     "output_type": "execute_result"
    }
   ],
   "source": [
    "import tensorflow as tf\n",
    "tf.__version__"
   ]
  },
  {
   "cell_type": "code",
   "execution_count": 15,
   "id": "f885d39c",
   "metadata": {
    "execution": {
     "iopub.execute_input": "2024-02-04T14:51:13.989030Z",
     "iopub.status.busy": "2024-02-04T14:51:13.988321Z",
     "iopub.status.idle": "2024-02-04T14:51:16.343340Z",
     "shell.execute_reply": "2024-02-04T14:51:16.342589Z"
    },
    "papermill": {
     "duration": 2.508708,
     "end_time": "2024-02-04T14:51:16.345309",
     "exception": false,
     "start_time": "2024-02-04T14:51:13.836601",
     "status": "completed"
    },
    "tags": []
   },
   "outputs": [
    {
     "name": "stdout",
     "output_type": "stream",
     "text": [
      "151/151 [==============================] - 2s 5ms/step\n",
      "63/63 [==============================] - 0s 5ms/step\n"
     ]
    }
   ],
   "source": [
    "## Lets do prediction and check performance matrix.\n",
    "train_predict = model.predict(X_train)\n",
    "test_predict = model.predict(X_test)\n",
    "\n",
    "## Transform to original form \n",
    "train_predict = scaler.inverse_transform(train_predict)\n",
    "test_predict = scaler.inverse_transform(test_predict)"
   ]
  },
  {
   "cell_type": "markdown",
   "id": "9e6ceb4b",
   "metadata": {
    "papermill": {
     "duration": 0.154654,
     "end_time": "2024-02-04T14:51:16.658903",
     "exception": false,
     "start_time": "2024-02-04T14:51:16.504249",
     "status": "completed"
    },
    "tags": []
   },
   "source": [
    "# Predict the test data and plot the output"
   ]
  },
  {
   "cell_type": "code",
   "execution_count": 16,
   "id": "89bc094a",
   "metadata": {
    "execution": {
     "iopub.execute_input": "2024-02-04T14:51:16.966328Z",
     "iopub.status.busy": "2024-02-04T14:51:16.965916Z",
     "iopub.status.idle": "2024-02-04T14:51:16.973035Z",
     "shell.execute_reply": "2024-02-04T14:51:16.972118Z"
    },
    "papermill": {
     "duration": 0.16298,
     "end_time": "2024-02-04T14:51:16.974964",
     "exception": false,
     "start_time": "2024-02-04T14:51:16.811984",
     "status": "completed"
    },
    "tags": []
   },
   "outputs": [
    {
     "data": {
      "text/plain": [
       "18.239086827892965"
      ]
     },
     "execution_count": 16,
     "metadata": {},
     "output_type": "execute_result"
    }
   ],
   "source": [
    "## Calculate RMSE for Performance Metrics\n",
    "math.sqrt(mean_squared_error(y_train, train_predict))"
   ]
  },
  {
   "cell_type": "code",
   "execution_count": 17,
   "id": "d0703523",
   "metadata": {
    "execution": {
     "iopub.execute_input": "2024-02-04T14:51:17.294738Z",
     "iopub.status.busy": "2024-02-04T14:51:17.294381Z",
     "iopub.status.idle": "2024-02-04T14:51:17.301271Z",
     "shell.execute_reply": "2024-02-04T14:51:17.300484Z"
    },
    "papermill": {
     "duration": 0.163548,
     "end_time": "2024-02-04T14:51:17.303168",
     "exception": false,
     "start_time": "2024-02-04T14:51:17.139620",
     "status": "completed"
    },
    "tags": []
   },
   "outputs": [
    {
     "data": {
      "text/plain": [
       "25.336480977901164"
      ]
     },
     "execution_count": 17,
     "metadata": {},
     "output_type": "execute_result"
    }
   ],
   "source": [
    "## Test data for RMSE\n",
    "math.sqrt(mean_squared_error(y_test, test_predict))"
   ]
  },
  {
   "cell_type": "code",
   "execution_count": 18,
   "id": "bf09a2fc",
   "metadata": {
    "execution": {
     "iopub.execute_input": "2024-02-04T14:51:17.610929Z",
     "iopub.status.busy": "2024-02-04T14:51:17.610594Z",
     "iopub.status.idle": "2024-02-04T14:51:17.910946Z",
     "shell.execute_reply": "2024-02-04T14:51:17.909989Z"
    },
    "papermill": {
     "duration": 0.45656,
     "end_time": "2024-02-04T14:51:17.913090",
     "exception": false,
     "start_time": "2024-02-04T14:51:17.456530",
     "status": "completed"
    },
    "tags": []
   },
   "outputs": [
    {
     "data": {
      "image/png": "[encoded data removed]",
      "text/plain": [
       "<Figure size 640x480 with 1 Axes>"
      ]
     },
     "metadata": {},
     "output_type": "display_data"
    }
   ],
   "source": [
    "## Plotting \n",
    "## Shift Train prediction for plotting\n",
    "look_back = 100\n",
    "train_predict_plot = np.empty_like(df2)\n",
    "train_predict_plot[:,:] = np.nan \n",
    "train_predict_plot[look_back: len(train_predict)+look_back, : ] = train_predict\n",
    "\n",
    "## Shifting Test Prediction for Plotting \n",
    "test_predict_plot = np.empty_like(df2)\n",
    "test_predict_plot[:, :] = np.nan \n",
    "test_predict_plot[len(train_predict)+ (look_back*2)+1 : len(df2)-1, :] = test_predict\n",
    "\n",
    "## Plot Baseline and Prediction\n",
    "plt.plot(scaler.inverse_transform(df2), label=\"Main\")\n",
    "plt.plot(train_predict_plot, label=\"Train\")\n",
    "plt.plot(test_predict_plot, label=\"Test\")\n",
    "plt.legend()\n",
    "plt.show()"
   ]
  },
  {
   "cell_type": "markdown",
   "id": "b249a59f",
   "metadata": {
    "papermill": {
     "duration": 0.154361,
     "end_time": "2024-02-04T14:51:18.222542",
     "exception": false,
     "start_time": "2024-02-04T14:51:18.068181",
     "status": "completed"
    },
    "tags": []
   },
   "source": [
    "# Predict the future 30 days and plot the output"
   ]
  },
  {
   "cell_type": "code",
   "execution_count": 19,
   "id": "75f5cc10",
   "metadata": {
    "execution": {
     "iopub.execute_input": "2024-02-04T14:51:18.531313Z",
     "iopub.status.busy": "2024-02-04T14:51:18.530967Z",
     "iopub.status.idle": "2024-02-04T14:51:18.537634Z",
     "shell.execute_reply": "2024-02-04T14:51:18.536646Z"
    },
    "papermill": {
     "duration": 0.163953,
     "end_time": "2024-02-04T14:51:18.540140",
     "exception": false,
     "start_time": "2024-02-04T14:51:18.376187",
     "status": "completed"
    },
    "tags": []
   },
   "outputs": [
    {
     "data": {
      "text/plain": [
       "2107"
      ]
     },
     "execution_count": 19,
     "metadata": {},
     "output_type": "execute_result"
    }
   ],
   "source": [
    "len(test_data)"
   ]
  },
  {
   "cell_type": "code",
   "execution_count": 20,
   "id": "f807b492",
   "metadata": {
    "execution": {
     "iopub.execute_input": "2024-02-04T14:51:18.850137Z",
     "iopub.status.busy": "2024-02-04T14:51:18.849827Z",
     "iopub.status.idle": "2024-02-04T14:51:18.856120Z",
     "shell.execute_reply": "2024-02-04T14:51:18.855253Z"
    },
    "papermill": {
     "duration": 0.163076,
     "end_time": "2024-02-04T14:51:18.858048",
     "exception": false,
     "start_time": "2024-02-04T14:51:18.694972",
     "status": "completed"
    },
    "tags": []
   },
   "outputs": [
    {
     "data": {
      "text/plain": [
       "(1, 100)"
      ]
     },
     "execution_count": 20,
     "metadata": {},
     "output_type": "execute_result"
    }
   ],
   "source": [
    "x_input = test_data[len(test_data)-100 : ].reshape(1, -1)\n",
    "x_input.shape"
   ]
  },
  {
   "cell_type": "code",
   "execution_count": 21,
   "id": "f732a0d6",
   "metadata": {
    "execution": {
     "iopub.execute_input": "2024-02-04T14:51:19.166547Z",
     "iopub.status.busy": "2024-02-04T14:51:19.166185Z",
     "iopub.status.idle": "2024-02-04T14:51:19.172655Z",
     "shell.execute_reply": "2024-02-04T14:51:19.171879Z"
    },
    "papermill": {
     "duration": 0.163861,
     "end_time": "2024-02-04T14:51:19.174610",
     "exception": false,
     "start_time": "2024-02-04T14:51:19.010749",
     "status": "completed"
    },
    "tags": []
   },
   "outputs": [
    {
     "data": {
      "text/plain": [
       "[0.654665042302098,\n",
       " 0.6551712500970232,\n",
       " 0.6628824821730488,\n",
       " 0.6601995808599458,\n",
       " 0.6659028553494353,\n",
       " 0.6726185454287749,\n",
       " 0.674626503015311,\n",
       " 0.6717748657705663,\n",
       " 0.6813421930946507,\n",
       " 0.732502927568414,\n",
       " 0.7319967197734888,\n",
       " 0.7507939025583742,\n",
       " 0.7712615710665124,\n",
       " 0.7778085252142103,\n",
       " 0.7650520887820977,\n",
       " 0.7756824524755249,\n",
       " 0.7770323399286584,\n",
       " 0.7756824524755249,\n",
       " 0.7689330152098568,\n",
       " 0.7567840281316545]"
      ]
     },
     "execution_count": 21,
     "metadata": {},
     "output_type": "execute_result"
    }
   ],
   "source": [
    "temp_input = list(x_input)\n",
    "temp_input = temp_input[0].tolist()\n",
    "temp_input[-20:]"
   ]
  },
  {
   "cell_type": "code",
   "execution_count": 22,
   "id": "0aba0766",
   "metadata": {
    "execution": {
     "iopub.execute_input": "2024-02-04T14:51:19.481450Z",
     "iopub.status.busy": "2024-02-04T14:51:19.481139Z",
     "iopub.status.idle": "2024-02-04T14:51:21.131814Z",
     "shell.execute_reply": "2024-02-04T14:51:21.130523Z"
    },
    "papermill": {
     "duration": 1.806764,
     "end_time": "2024-02-04T14:51:21.133897",
     "exception": false,
     "start_time": "2024-02-04T14:51:19.327133",
     "status": "completed"
    },
    "tags": []
   },
   "outputs": [
    {
     "name": "stdout",
     "output_type": "stream",
     "text": [
      "[0.7559086]\n",
      "101\n",
      "1 day output [[0.75767905]]\n",
      "2 day output [[0.76017886]]\n",
      "3 day output [[0.75600576]]\n",
      "4 day output [[0.7553523]]\n",
      "5 day output [[0.7533582]]\n",
      "6 day output [[0.7493362]]\n",
      "7 day output [[0.74570864]]\n",
      "8 day output [[0.7413607]]\n",
      "9 day output [[0.7365326]]\n",
      "10 day output [[0.73188776]]\n",
      "11 day output [[0.7272604]]\n",
      "12 day output [[0.72282237]]\n",
      "13 day output [[0.71873546]]\n",
      "14 day output [[0.7149565]]\n",
      "15 day output [[0.71150625]]\n",
      "16 day output [[0.7083786]]\n",
      "17 day output [[0.70552415]]\n",
      "18 day output [[0.70291305]]\n",
      "19 day output [[0.70051485]]\n",
      "20 day output [[0.69829893]]\n",
      "21 day output [[0.6962469]]\n",
      "22 day output [[0.6943457]]\n",
      "23 day output [[0.69258624]]\n",
      "24 day output [[0.6909626]]\n",
      "25 day output [[0.6894686]]\n",
      "26 day output [[0.6880974]]\n",
      "27 day output [[0.68683964]]\n",
      "28 day output [[0.68568414]]\n",
      "29 day output [[0.68461627]]\n"
     ]
    }
   ],
   "source": [
    "lst_output = []\n",
    "n_steps = 100\n",
    "i = 0\n",
    "\n",
    "while(i<30):\n",
    "    if(len(temp_input)>100):\n",
    "#         print(temp_input)\n",
    "        x_input = np.array(temp_input[1:])\n",
    "#         print(f\"{i} day input {x_input}\")\n",
    "        x_input = x_input.reshape(1, -1)\n",
    "        x_input = x_input.reshape((1, n_steps, 1))\n",
    "        yhat = model.predict(x_input, verbose=0)\n",
    "        print(f\"{i} day output {yhat}\")\n",
    "        temp_input.extend(yhat[0].tolist())\n",
    "        temp_input = temp_input[1:]\n",
    "        lst_output.extend(yhat.tolist())\n",
    "        i = i+1\n",
    "    \n",
    "    else:\n",
    "        x_input = x_input.reshape((1, n_steps, 1))\n",
    "        yhat = model.predict(x_input, verbose=0)\n",
    "        print(yhat[0])\n",
    "        temp_input.extend(yhat[0].tolist())\n",
    "        print(len(temp_input))\n",
    "        lst_output.extend(yhat.tolist())\n",
    "        i = i+1"
   ]
  },
  {
   "cell_type": "code",
   "execution_count": 23,
   "id": "442b55e2",
   "metadata": {
    "execution": {
     "iopub.execute_input": "2024-02-04T14:51:21.481907Z",
     "iopub.status.busy": "2024-02-04T14:51:21.480818Z",
     "iopub.status.idle": "2024-02-04T14:51:21.488347Z",
     "shell.execute_reply": "2024-02-04T14:51:21.487383Z"
    },
    "papermill": {
     "duration": 0.194341,
     "end_time": "2024-02-04T14:51:21.490616",
     "exception": false,
     "start_time": "2024-02-04T14:51:21.296275",
     "status": "completed"
    },
    "tags": []
   },
   "outputs": [
    {
     "data": {
      "text/plain": [
       "7022"
      ]
     },
     "execution_count": 23,
     "metadata": {},
     "output_type": "execute_result"
    }
   ],
   "source": [
    "day_new = np.arange(1, 101)\n",
    "day_pred = np.arange(101, 131)\n",
    "len(df2)"
   ]
  },
  {
   "cell_type": "code",
   "execution_count": 24,
   "id": "14afa47e",
   "metadata": {
    "execution": {
     "iopub.execute_input": "2024-02-04T14:51:21.857827Z",
     "iopub.status.busy": "2024-02-04T14:51:21.857439Z",
     "iopub.status.idle": "2024-02-04T14:51:22.055399Z",
     "shell.execute_reply": "2024-02-04T14:51:22.054516Z"
    },
    "papermill": {
     "duration": 0.354852,
     "end_time": "2024-02-04T14:51:22.057360",
     "exception": false,
     "start_time": "2024-02-04T14:51:21.702508",
     "status": "completed"
    },
    "tags": []
   },
   "outputs": [
    {
     "data": {
      "image/png": "[encoded data removed]",
      "text/plain": [
       "<Figure size 640x480 with 1 Axes>"
      ]
     },
     "metadata": {},
     "output_type": "display_data"
    }
   ],
   "source": [
    "plt.plot(day_new, scaler.inverse_transform(df2[len(df2)-100:]), label=\"Previous Price\")\n",
    "plt.plot(day_pred, scaler.inverse_transform(lst_output), label=\"Prediction Price\")\n",
    "plt.legend(loc=\"upper left\")\n",
    "plt.show()"
   ]
  }
 ],
 "metadata": {
  "kaggle": {
   "accelerator": "nvidiaTeslaT4",
   "dataSources": [
    {
     "datasetId": 4538,
     "sourceId": 7213,
     "sourceType": "datasetVersion"
    },
    {
     "datasetId": 1130576,
     "sourceId": 1897283,
     "sourceType": "datasetVersion"
    }
   ],
   "dockerImageVersionId": 30588,
   "isGpuEnabled": true,
   "isInternetEnabled": true,
   "language": "python",
   "sourceType": "notebook"
  },
  "kernelspec": {
   "display_name": "Python 3",
   "language": "python",
   "name": "python3"
  },
  "language_info": {
   "codemirror_mode": {
    "name": "ipython",
    "version": 3
   },
   "file_extension": ".py",
   "mimetype": "text/x-python",
   "name": "python",
   "nbconvert_exporter": "python",
   "pygments_lexer": "ipython3",
   "version": "3.10.12"
  },
  "papermill": {
   "default_parameters": {},
   "duration": 152.713865,
   "end_time": "2024-02-04T14:51:25.704265",
   "environment_variables": {},
   "exception": null,
   "input_path": "__notebook__.ipynb",
   "output_path": "__notebook__.ipynb",
   "parameters": {},
   "start_time": "2024-02-04T14:48:52.990400",
   "version": "2.4.0"
  }
 },
 "nbformat": 4,
 "nbformat_minor": 5
}
